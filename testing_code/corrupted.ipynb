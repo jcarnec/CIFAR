{
 "cells": [
  {
   "cell_type": "code",
   "execution_count": 17,
   "metadata": {},
   "outputs": [
    {
     "name": "stdout",
     "output_type": "stream",
     "text": [
      "Test Images Shape: (10000, 32, 32, 3)\n",
      "Test Labels Shape: (10000,)\n"
     ]
    },
    {
     "name": "stderr",
     "output_type": "stream",
     "text": [
      "2024-05-01 10:07:46.706571: W tensorflow/core/framework/local_rendezvous.cc:404] Local rendezvous is aborting with status: OUT_OF_RANGE: End of sequence\n"
     ]
    }
   ],
   "source": [
    "import tensorflow_datasets as tfds\n",
    "import tensorflow as tf\n",
    "import numpy as np\n",
    "\n",
    "\n",
    "def extract_images_and_labels(corruption='gaussian_blur_5'):\n",
    "    test_data, ds_info = tfds.load(\n",
    "        f'cifar10_corrupted/{corruption}',\n",
    "        split='test',\n",
    "        as_supervised=True,\n",
    "        with_info=True,\n",
    "        shuffle_files=True\n",
    "    )\n",
    "    images = []\n",
    "    labels = []\n",
    "    for image, label in tfds.as_numpy(test_data):\n",
    "        images.append(image)\n",
    "        labels.append(label)\n",
    "    return np.array(images), np.array(labels)\n",
    "\n",
    "corrupted_test_images, corrupted_test_labels = extract_images_and_labels()\n",
    "\n",
    "print(\"Test Images Shape:\", corrupted_test_images.shape)\n",
    "print(\"Test Labels Shape:\", corrupted_test_labels.shape)"
   ]
  }
 ],
 "metadata": {
  "kernelspec": {
   "display_name": "Python 3",
   "language": "python",
   "name": "python3"
  },
  "language_info": {
   "codemirror_mode": {
    "name": "ipython",
    "version": 3
   },
   "file_extension": ".py",
   "mimetype": "text/x-python",
   "name": "python",
   "nbconvert_exporter": "python",
   "pygments_lexer": "ipython3",
   "version": "3.11.9"
  }
 },
 "nbformat": 4,
 "nbformat_minor": 2
}
